{
  "cells": [
    {
      "cell_type": "markdown",
      "metadata": {
        "id": "UuCKVkVgN2PB"
      },
      "source": [
        "# Lab: Regression Analysis"
      ]
    },
    {
      "cell_type": "markdown",
      "metadata": {
        "id": "ssSqjkRsN2PD"
      },
      "source": [
        "### Before you start:\n",
        "\n",
        "* Read the README.md file\n",
        "* Comment as much as you can and use the resources (README.md file)\n",
        "\n",
        "Happy learning!"
      ]
    },
    {
      "cell_type": "markdown",
      "metadata": {
        "id": "fFaQblrmN2PD"
      },
      "source": [
        "## Challenge 1\n",
        "I work at a coding bootcamp, and I have developed a theory that the younger my students are, the more often they are late to class. In order to test my hypothesis, I have collected some data in the following table:\n",
        "\n",
        "| StudentID | Age | Tardies |\n",
        "|--------|-----|------------|\n",
        "| 1      | 17  | 10         |\n",
        "| 2      | 51  | 1          |\n",
        "| 3      | 27  | 5          |\n",
        "| 4      | 21  | 9         |\n",
        "| 5      | 36  |  4         |\n",
        "| 6      | 48  |  2         |\n",
        "| 7      | 19  |  9         |\n",
        "| 8      | 26  | 6          |\n",
        "| 9      | 54  |  0         |\n",
        "| 10     | 30  |  3         |"
      ]
    },
    {
      "cell_type": "code",
      "execution_count": 1,
      "metadata": {
        "id": "Pow5T0etN2PE"
      },
      "outputs": [],
      "source": [
        "import pandas as pd\n",
        "import numpy as np\n",
        "import plotly.express as px\n",
        "import statsmodels.formula.api as smf\n",
        "from sklearn.linear_model import LinearRegression\n",
        "import matplotlib.pyplot as plt\n",
        "import seaborn as sns"
      ]
    },
    {
      "cell_type": "markdown",
      "metadata": {
        "id": "oz1rLrirN2PE"
      },
      "source": [
        "Use this command to create a dataframe with the data provided in the table.\n",
        "~~~~\n",
        "student_data = pd.DataFrame({'Age': [17,51,27,21,36,48,19,26,54,30], 'Tardies': [10,1,5,9,4,2,9,6,0,3]})\n",
        "~~~~"
      ]
    },
    {
      "cell_type": "code",
      "execution_count": 2,
      "metadata": {
        "id": "npxJdrEDN2PF"
      },
      "outputs": [],
      "source": [
        "# Your code here.\n",
        "student_data = pd.DataFrame({'Age': [17,51,27,21,36,48,19,26,54,30], 'Tardies': [10,1,5,9,4,2,9,6,0,3]})"
      ]
    },
    {
      "cell_type": "markdown",
      "metadata": {
        "id": "j9OQKuxLN2PF"
      },
      "source": [
        "Draw a dispersion diagram (scatter plot) for the data."
      ]
    },
    {
      "cell_type": "code",
      "execution_count": 3,
      "metadata": {
        "colab": {
          "base_uri": "https://localhost:8080/",
          "height": 466
        },
        "id": "LbjsTfNHN2PF",
        "outputId": "62f2bcbc-cb08-4e9a-acf4-52dc2ab1f6e6"
      },
      "outputs": [
        {
          "output_type": "execute_result",
          "data": {
            "text/plain": [
              "<Axes: xlabel='Age', ylabel='Tardies'>"
            ]
          },
          "metadata": {},
          "execution_count": 3
        },
        {
          "output_type": "display_data",
          "data": {
            "text/plain": [
              "<Figure size 640x480 with 1 Axes>"
            ],
            "image/png": "[encoded data removed]"
          },
          "metadata": {}
        }
      ],
      "source": [
        "# Your code here\n",
        "\n",
        "sns.scatterplot(student_data, x=\"Age\", y=\"Tardies\")"
      ]
    },
    {
      "cell_type": "markdown",
      "metadata": {
        "id": "HUiiCZdLN2PF"
      },
      "source": [
        "Do you see a trend? Can you make any hypotheses about the relationship between age and number of tardies?"
      ]
    },
    {
      "cell_type": "markdown",
      "metadata": {
        "id": "PexuIuvFN2PF"
      },
      "source": [
        "Yes, it seems like there is a trend between age and tardies. The older the students, the less late they are."
      ]
    },
    {
      "cell_type": "markdown",
      "metadata": {
        "id": "dbKfjrHZN2PG"
      },
      "source": [
        "Calculate the covariance and correlation of the variables in your plot. What is the difference between these two measures? Compare their values. What do they tell you in this case? Add your responses as comments after your code."
      ]
    },
    {
      "cell_type": "code",
      "execution_count": 5,
      "metadata": {
        "colab": {
          "base_uri": "https://localhost:8080/"
        },
        "id": "JpfIavN4N2PG",
        "outputId": "1a259a82-3ff3-4cfd-a900-0f968ca7ef87"
      },
      "outputs": [
        {
          "output_type": "stream",
          "name": "stdout",
          "text": [
            "                Age    Tardies\n",
            "Age      187.655556 -45.566667\n",
            "Tardies  -45.566667  12.544444\n",
            "              Age   Tardies\n",
            "Age      1.000000 -0.939163\n",
            "Tardies -0.939163  1.000000\n"
          ]
        }
      ],
      "source": [
        "# Covariance\n",
        "covariance = student_data[[\"Age\", \"Tardies\"]].cov()\n",
        "\n",
        "# Correlation\n",
        "correlation = student_data[[\"Age\", \"Tardies\"]].corr()\n",
        "\n",
        "print(covariance)\n",
        "print(correlation)\n",
        "\n",
        "# Both measurements measure correlation between two variables.\n",
        "# However, correlation is easier to interprete since strength and direction of the correlation is given within a range from 0-1."
      ]
    },
    {
      "cell_type": "markdown",
      "metadata": {
        "id": "lodZ0YnTN2PG"
      },
      "source": [
        "Build a regression model for this data. What will be your outcome variable? What type of regression are you using? Add your responses as comments after your code."
      ]
    },
    {
      "cell_type": "code",
      "execution_count": 8,
      "metadata": {
        "id": "wC99IsUTN2PG"
      },
      "outputs": [],
      "source": [
        "# your explanation here\n",
        "from sklearn.model_selection import train_test_split\n",
        "\n",
        "student_data = pd.DataFrame({'Age': [17,51,27,21,36,48,19,26,54,30], 'Tardies': [10,1,5,9,4,2,9,6,0,3]})\n",
        "\n",
        "X = student_data[['Age']]  # DataFrame, also 2D\n",
        "y = student_data['Tardies']  # Series\n"
      ]
    },
    {
      "cell_type": "code",
      "source": [
        "# Split in training and test data\n",
        "X_train, X_test, y_train, y_test = train_test_split(X, y, test_size=0.2, random_state=42)\n",
        "\n",
        "# Create the Linear Regression estimator\n",
        "model = LinearRegression()\n",
        "\n",
        "# Perform the fitting\n",
        "model.fit(X_train, y_train)\n",
        "\n",
        "# you can simply use the .predict\n",
        "y_pred = model.predict(X_test)\n",
        "\n",
        "# Print coefs\n",
        "print(\"Intercept:\", model.intercept_)\n",
        "print(\"Coefficient:\", model.coef_)"
      ],
      "metadata": {
        "colab": {
          "base_uri": "https://localhost:8080/"
        },
        "id": "liYd3I86iYW9",
        "outputId": "6fe06182-6089-482a-9565-e4cd6009cea1"
      },
      "execution_count": 9,
      "outputs": [
        {
          "output_type": "stream",
          "name": "stdout",
          "text": [
            "Intercept: 13.46408839779005\n",
            "Coefficient: [-0.26657459]\n"
          ]
        }
      ]
    },
    {
      "cell_type": "markdown",
      "metadata": {
        "id": "lA_tlEUSN2PG"
      },
      "source": [
        "Plot your regression model on your scatter plot."
      ]
    },
    {
      "cell_type": "code",
      "execution_count": 12,
      "metadata": {
        "colab": {
          "base_uri": "https://localhost:8080/",
          "height": 472
        },
        "id": "Z8QmfWq2N2PH",
        "outputId": "434b9f67-52de-4cfd-b612-a2cd8c8c7eed"
      },
      "outputs": [
        {
          "output_type": "display_data",
          "data": {
            "text/plain": [
              "<Figure size 640x480 with 1 Axes>"
            ],
            "image/png": "[encoded data removed]"
          },
          "metadata": {}
        }
      ],
      "source": [
        "# Regression Line\n",
        "sns.regplot(data=student_data, x=\"Age\", y=\"Tardies\", ci=None, line_kws={\"color\": \"red\"})\n",
        "plt.title(\"Scatterplot mit Regression Line\")\n",
        "plt.show()\n"
      ]
    },
    {
      "cell_type": "markdown",
      "metadata": {
        "id": "qXsM3tXWN2PH"
      },
      "source": [
        "Interpret the results of your model. What can conclusions can you draw from your model and how confident in these conclusions are you? Can we say that age is a good predictor of tardiness? Add your responses as comments after your code."
      ]
    },
    {
      "cell_type": "markdown",
      "metadata": {
        "id": "XixPpgRaN2PH"
      },
      "source": [
        "# *your explanation here*\n",
        "The regression line seems pretty accurate and the model fits the data well. The older the students, the less late they are."
      ]
    },
    {
      "cell_type": "markdown",
      "metadata": {
        "id": "eNskpdacN2PH"
      },
      "source": [
        "## Challenge 2\n",
        "For the second part of this lab, we will use the vehicles.csv data set. You can find a copy of the dataset in the git hub folder. This dataset includes variables related to vehicle characteristics, including the model, make, and energy efficiency standards, as well as each car's CO2 emissions. As discussed in class the goal of this exercise is to predict vehicles' CO2 emissions based on several independent variables."
      ]
    },
    {
      "cell_type": "code",
      "source": [
        "from google.colab import files\n",
        "uploaded = files.upload()"
      ],
      "metadata": {
        "colab": {
          "base_uri": "https://localhost:8080/",
          "height": 69
        },
        "id": "r5_QaGVMkgqn",
        "outputId": "1b49038d-9d4e-4e3c-cc05-0abd11f447e3"
      },
      "execution_count": 13,
      "outputs": [
        {
          "output_type": "display_data",
          "data": {
            "text/plain": [
              "<IPython.core.display.HTML object>"
            ],
            "text/html": [
              "\n",
              "     <input type=\"file\" id=\"files-d5634104-1635-4afe-a1bf-a1d3fac22fb5\" name=\"files[]\" multiple disabled\n",
              "        style=\"border:none\" />\n",
              "     <output id=\"result-d5634104-1635-4afe-a1bf-a1d3fac22fb5\">\n",
              "      Upload widget is only available when the cell has been executed in the\n",
              "      current browser session. Please rerun this cell to enable.\n",
              "      </output>\n",
              "      <script>// Copyright 2017 Google LLC\n",
              "//\n",
              "// Licensed under the Apache License, Version 2.0 (the \"License\");\n",
              "// you may not use this file except in compliance with the License.\n",
              "// You may obtain a copy of the License at\n",
              "//\n",
              "//      http://www.apache.org/licenses/LICENSE-2.0\n",
              "//\n",
              "// Unless required by applicable law or agreed to in writing, software\n",
              "// distributed under the License is distributed on an \"AS IS\" BASIS,\n",
              "// WITHOUT WARRANTIES OR CONDITIONS OF ANY KIND, either express or implied.\n",
              "// See the License for the specific language governing permissions and\n",
              "// limitations under the License.\n",
              "\n",
              "/**\n",
              " * @fileoverview Helpers for google.colab Python module.\n",
              " */\n",
              "(function(scope) {\n",
              "function span(text, styleAttributes = {}) {\n",
              "  const element = document.createElement('span');\n",
              "  element.textContent = text;\n",
              "  for (const key of Object.keys(styleAttributes)) {\n",
              "    element.style[key] = styleAttributes[key];\n",
              "  }\n",
              "  return element;\n",
              "}\n",
              "\n",
              "// Max number of bytes which will be uploaded at a time.\n",
              "const MAX_PAYLOAD_SIZE = 100 * 1024;\n",
              "\n",
              "function _uploadFiles(inputId, outputId) {\n",
              "  const steps = uploadFilesStep(inputId, outputId);\n",
              "  const outputElement = document.getElementById(outputId);\n",
              "  // Cache steps on the outputElement to make it available for the next call\n",
              "  // to uploadFilesContinue from Python.\n",
              "  outputElement.steps = steps;\n",
              "\n",
              "  return _uploadFilesContinue(outputId);\n",
              "}\n",
              "\n",
              "// This is roughly an async generator (not supported in the browser yet),\n",
              "// where there are multiple asynchronous steps and the Python side is going\n",
              "// to poll for completion of each step.\n",
              "// This uses a Promise to block the python side on completion of each step,\n",
              "// then passes the result of the previous step as the input to the next step.\n",
              "function _uploadFilesContinue(outputId) {\n",
              "  const outputElement = document.getElementById(outputId);\n",
              "  const steps = outputElement.steps;\n",
              "\n",
              "  const next = steps.next(outputElement.lastPromiseValue);\n",
              "  return Promise.resolve(next.value.promise).then((value) => {\n",
              "    // Cache the last promise value to make it available to the next\n",
              "    // step of the generator.\n",
              "    outputElement.lastPromiseValue = value;\n",
              "    return next.value.response;\n",
              "  });\n",
              "}\n",
              "\n",
              "/**\n",
              " * Generator function which is called between each async step of the upload\n",
              " * process.\n",
              " * @param {string} inputId Element ID of the input file picker element.\n",
              " * @param {string} outputId Element ID of the output display.\n",
              " * @return {!Iterable<!Object>} Iterable of next steps.\n",
              " */\n",
              "function* uploadFilesStep(inputId, outputId) {\n",
              "  const inputElement = document.getElementById(inputId);\n",
              "  inputElement.disabled = false;\n",
              "\n",
              "  const outputElement = document.getElementById(outputId);\n",
              "  outputElement.innerHTML = '';\n",
              "\n",
              "  const pickedPromise = new Promise((resolve) => {\n",
              "    inputElement.addEventListener('change', (e) => {\n",
              "      resolve(e.target.files);\n",
              "    });\n",
              "  });\n",
              "\n",
              "  const cancel = document.createElement('button');\n",
              "  inputElement.parentElement.appendChild(cancel);\n",
              "  cancel.textContent = 'Cancel upload';\n",
              "  const cancelPromise = new Promise((resolve) => {\n",
              "    cancel.onclick = () => {\n",
              "      resolve(null);\n",
              "    };\n",
              "  });\n",
              "\n",
              "  // Wait for the user to pick the files.\n",
              "  const files = yield {\n",
              "    promise: Promise.race([pickedPromise, cancelPromise]),\n",
              "    response: {\n",
              "      action: 'starting',\n",
              "    }\n",
              "  };\n",
              "\n",
              "  cancel.remove();\n",
              "\n",
              "  // Disable the input element since further picks are not allowed.\n",
              "  inputElement.disabled = true;\n",
              "\n",
              "  if (!files) {\n",
              "    return {\n",
              "      response: {\n",
              "        action: 'complete',\n",
              "      }\n",
              "    };\n",
              "  }\n",
              "\n",
              "  for (const file of files) {\n",
              "    const li = document.createElement('li');\n",
              "    li.append(span(file.name, {fontWeight: 'bold'}));\n",
              "    li.append(span(\n",
              "        `(${file.type || 'n/a'}) - ${file.size} bytes, ` +\n",
              "        `last modified: ${\n",
              "            file.lastModifiedDate ? file.lastModifiedDate.toLocaleDateString() :\n",
              "                                    'n/a'} - `));\n",
              "    const percent = span('0% done');\n",
              "    li.appendChild(percent);\n",
              "\n",
              "    outputElement.appendChild(li);\n",
              "\n",
              "    const fileDataPromise = new Promise((resolve) => {\n",
              "      const reader = new FileReader();\n",
              "      reader.onload = (e) => {\n",
              "        resolve(e.target.result);\n",
              "      };\n",
              "      reader.readAsArrayBuffer(file);\n",
              "    });\n",
              "    // Wait for the data to be ready.\n",
              "    let fileData = yield {\n",
              "      promise: fileDataPromise,\n",
              "      response: {\n",
              "        action: 'continue',\n",
              "      }\n",
              "    };\n",
              "\n",
              "    // Use a chunked sending to avoid message size limits. See b/62115660.\n",
              "    let position = 0;\n",
              "    do {\n",
              "      const length = Math.min(fileData.byteLength - position, MAX_PAYLOAD_SIZE);\n",
              "      const chunk = new Uint8Array(fileData, position, length);\n",
              "      position += length;\n",
              "\n",
              "      const base64 = btoa(String.fromCharCode.apply(null, chunk));\n",
              "      yield {\n",
              "        response: {\n",
              "          action: 'append',\n",
              "          file: file.name,\n",
              "          data: base64,\n",
              "        },\n",
              "      };\n",
              "\n",
              "      let percentDone = fileData.byteLength === 0 ?\n",
              "          100 :\n",
              "          Math.round((position / fileData.byteLength) * 100);\n",
              "      percent.textContent = `${percentDone}% done`;\n",
              "\n",
              "    } while (position < fileData.byteLength);\n",
              "  }\n",
              "\n",
              "  // All done.\n",
              "  yield {\n",
              "    response: {\n",
              "      action: 'complete',\n",
              "    }\n",
              "  };\n",
              "}\n",
              "\n",
              "scope.google = scope.google || {};\n",
              "scope.google.colab = scope.google.colab || {};\n",
              "scope.google.colab._files = {\n",
              "  _uploadFiles,\n",
              "  _uploadFilesContinue,\n",
              "};\n",
              "})(self);\n",
              "</script> "
            ]
          },
          "metadata": {}
        },
        {
          "output_type": "stream",
          "name": "stdout",
          "text": [
            "Saving vehicles.csv to vehicles.csv\n"
          ]
        }
      ]
    },
    {
      "cell_type": "code",
      "execution_count": 18,
      "metadata": {
        "colab": {
          "base_uri": "https://localhost:8080/",
          "height": 779
        },
        "id": "Xv-w8eiWN2PI",
        "outputId": "528d1249-aa41-4dc6-a1b8-6fb61a04ed89"
      },
      "outputs": [
        {
          "output_type": "execute_result",
          "data": {
            "text/plain": [
              "                   Make                Model  Year  Engine Displacement  \\\n",
              "0            AM General    DJ Po Vehicle 2WD  1984                  2.5   \n",
              "1            AM General     FJ8c Post Office  1984                  4.2   \n",
              "2            AM General  Post Office DJ5 2WD  1985                  2.5   \n",
              "3            AM General  Post Office DJ8 2WD  1985                  4.2   \n",
              "4      ASC Incorporated                  GNX  1987                  3.8   \n",
              "...                 ...                  ...   ...                  ...   \n",
              "35947             smart         fortwo coupe  2013                  1.0   \n",
              "35948             smart         fortwo coupe  2014                  1.0   \n",
              "35949             smart         fortwo coupe  2015                  1.0   \n",
              "35950             smart         fortwo coupe  2016                  0.9   \n",
              "35951             smart         fortwo coupe  2016                  0.9   \n",
              "\n",
              "       Cylinders     Transmission        Drivetrain  \\\n",
              "0            4.0  Automatic 3-spd     2-Wheel Drive   \n",
              "1            6.0  Automatic 3-spd     2-Wheel Drive   \n",
              "2            4.0  Automatic 3-spd  Rear-Wheel Drive   \n",
              "3            6.0  Automatic 3-spd  Rear-Wheel Drive   \n",
              "4            6.0  Automatic 4-spd  Rear-Wheel Drive   \n",
              "...          ...              ...               ...   \n",
              "35947        3.0        Auto(AM5)  Rear-Wheel Drive   \n",
              "35948        3.0        Auto(AM5)  Rear-Wheel Drive   \n",
              "35949        3.0        Auto(AM5)  Rear-Wheel Drive   \n",
              "35950        3.0        Auto(AM6)  Rear-Wheel Drive   \n",
              "35951        3.0     Manual 5-spd  Rear-Wheel Drive   \n",
              "\n",
              "                     Vehicle Class Fuel Type  Fuel Barrels/Year  City MPG  \\\n",
              "0      Special Purpose Vehicle 2WD   Regular          19.388824        18   \n",
              "1      Special Purpose Vehicle 2WD   Regular          25.354615        13   \n",
              "2      Special Purpose Vehicle 2WD   Regular          20.600625        16   \n",
              "3      Special Purpose Vehicle 2WD   Regular          25.354615        13   \n",
              "4                     Midsize Cars   Premium          20.600625        14   \n",
              "...                            ...       ...                ...       ...   \n",
              "35947                  Two Seaters   Premium           9.155833        34   \n",
              "35948                  Two Seaters   Premium           9.155833        34   \n",
              "35949                  Two Seaters   Premium           9.155833        34   \n",
              "35950                  Two Seaters   Premium           9.155833        34   \n",
              "35951                  Two Seaters   Premium           9.417429        32   \n",
              "\n",
              "       Highway MPG  Combined MPG  CO2 Emission Grams/Mile  Fuel Cost/Year  \n",
              "0               17            17               522.764706            1950  \n",
              "1               13            13               683.615385            2550  \n",
              "2               17            16               555.437500            2100  \n",
              "3               13            13               683.615385            2550  \n",
              "4               21            16               555.437500            2550  \n",
              "...            ...           ...                      ...             ...  \n",
              "35947           38            36               244.000000            1100  \n",
              "35948           38            36               243.000000            1100  \n",
              "35949           38            36               244.000000            1100  \n",
              "35950           39            36               246.000000            1100  \n",
              "35951           39            35               255.000000            1150  \n",
              "\n",
              "[35952 rows x 15 columns]"
            ],
            "text/html": [
              "\n",
              "  <div id=\"df-ad8d15e6-f523-4e46-b25a-a00d7f83d1f0\" class=\"colab-df-container\">\n",
              "    <div>\n",
              "<style scoped>\n",
              "    .dataframe tbody tr th:only-of-type {\n",
              "        vertical-align: middle;\n",
              "    }\n",
              "\n",
              "    .dataframe tbody tr th {\n",
              "        vertical-align: top;\n",
              "    }\n",
              "\n",
              "    .dataframe thead th {\n",
              "        text-align: right;\n",
              "    }\n",
              "</style>\n",
              "<table border=\"1\" class=\"dataframe\">\n",
              "  <thead>\n",
              "    <tr style=\"text-align: right;\">\n",
              "      <th></th>\n",
              "      <th>Make</th>\n",
              "      <th>Model</th>\n",
              "      <th>Year</th>\n",
              "      <th>Engine Displacement</th>\n",
              "      <th>Cylinders</th>\n",
              "      <th>Transmission</th>\n",
              "      <th>Drivetrain</th>\n",
              "      <th>Vehicle Class</th>\n",
              "      <th>Fuel Type</th>\n",
              "      <th>Fuel Barrels/Year</th>\n",
              "      <th>City MPG</th>\n",
              "      <th>Highway MPG</th>\n",
              "      <th>Combined MPG</th>\n",
              "      <th>CO2 Emission Grams/Mile</th>\n",
              "      <th>Fuel Cost/Year</th>\n",
              "    </tr>\n",
              "  </thead>\n",
              "  <tbody>\n",
              "    <tr>\n",
              "      <th>0</th>\n",
              "      <td>AM General</td>\n",
              "      <td>DJ Po Vehicle 2WD</td>\n",
              "      <td>1984</td>\n",
              "      <td>2.5</td>\n",
              "      <td>4.0</td>\n",
              "      <td>Automatic 3-spd</td>\n",
              "      <td>2-Wheel Drive</td>\n",
              "      <td>Special Purpose Vehicle 2WD</td>\n",
              "      <td>Regular</td>\n",
              "      <td>19.388824</td>\n",
              "      <td>18</td>\n",
              "      <td>17</td>\n",
              "      <td>17</td>\n",
              "      <td>522.764706</td>\n",
              "      <td>1950</td>\n",
              "    </tr>\n",
              "    <tr>\n",
              "      <th>1</th>\n",
              "      <td>AM General</td>\n",
              "      <td>FJ8c Post Office</td>\n",
              "      <td>1984</td>\n",
              "      <td>4.2</td>\n",
              "      <td>6.0</td>\n",
              "      <td>Automatic 3-spd</td>\n",
              "      <td>2-Wheel Drive</td>\n",
              "      <td>Special Purpose Vehicle 2WD</td>\n",
              "      <td>Regular</td>\n",
              "      <td>25.354615</td>\n",
              "      <td>13</td>\n",
              "      <td>13</td>\n",
              "      <td>13</td>\n",
              "      <td>683.615385</td>\n",
              "      <td>2550</td>\n",
              "    </tr>\n",
              "    <tr>\n",
              "      <th>2</th>\n",
              "      <td>AM General</td>\n",
              "      <td>Post Office DJ5 2WD</td>\n",
              "      <td>1985</td>\n",
              "      <td>2.5</td>\n",
              "      <td>4.0</td>\n",
              "      <td>Automatic 3-spd</td>\n",
              "      <td>Rear-Wheel Drive</td>\n",
              "      <td>Special Purpose Vehicle 2WD</td>\n",
              "      <td>Regular</td>\n",
              "      <td>20.600625</td>\n",
              "      <td>16</td>\n",
              "      <td>17</td>\n",
              "      <td>16</td>\n",
              "      <td>555.437500</td>\n",
              "      <td>2100</td>\n",
              "    </tr>\n",
              "    <tr>\n",
              "      <th>3</th>\n",
              "      <td>AM General</td>\n",
              "      <td>Post Office DJ8 2WD</td>\n",
              "      <td>1985</td>\n",
              "      <td>4.2</td>\n",
              "      <td>6.0</td>\n",
              "      <td>Automatic 3-spd</td>\n",
              "      <td>Rear-Wheel Drive</td>\n",
              "      <td>Special Purpose Vehicle 2WD</td>\n",
              "      <td>Regular</td>\n",
              "      <td>25.354615</td>\n",
              "      <td>13</td>\n",
              "      <td>13</td>\n",
              "      <td>13</td>\n",
              "      <td>683.615385</td>\n",
              "      <td>2550</td>\n",
              "    </tr>\n",
              "    <tr>\n",
              "      <th>4</th>\n",
              "      <td>ASC Incorporated</td>\n",
              "      <td>GNX</td>\n",
              "      <td>1987</td>\n",
              "      <td>3.8</td>\n",
              "      <td>6.0</td>\n",
              "      <td>Automatic 4-spd</td>\n",
              "      <td>Rear-Wheel Drive</td>\n",
              "      <td>Midsize Cars</td>\n",
              "      <td>Premium</td>\n",
              "      <td>20.600625</td>\n",
              "      <td>14</td>\n",
              "      <td>21</td>\n",
              "      <td>16</td>\n",
              "      <td>555.437500</td>\n",
              "      <td>2550</td>\n",
              "    </tr>\n",
              "    <tr>\n",
              "      <th>...</th>\n",
              "      <td>...</td>\n",
              "      <td>...</td>\n",
              "      <td>...</td>\n",
              "      <td>...</td>\n",
              "      <td>...</td>\n",
              "      <td>...</td>\n",
              "      <td>...</td>\n",
              "      <td>...</td>\n",
              "      <td>...</td>\n",
              "      <td>...</td>\n",
              "      <td>...</td>\n",
              "      <td>...</td>\n",
              "      <td>...</td>\n",
              "      <td>...</td>\n",
              "      <td>...</td>\n",
              "    </tr>\n",
              "    <tr>\n",
              "      <th>35947</th>\n",
              "      <td>smart</td>\n",
              "      <td>fortwo coupe</td>\n",
              "      <td>2013</td>\n",
              "      <td>1.0</td>\n",
              "      <td>3.0</td>\n",
              "      <td>Auto(AM5)</td>\n",
              "      <td>Rear-Wheel Drive</td>\n",
              "      <td>Two Seaters</td>\n",
              "      <td>Premium</td>\n",
              "      <td>9.155833</td>\n",
              "      <td>34</td>\n",
              "      <td>38</td>\n",
              "      <td>36</td>\n",
              "      <td>244.000000</td>\n",
              "      <td>1100</td>\n",
              "    </tr>\n",
              "    <tr>\n",
              "      <th>35948</th>\n",
              "      <td>smart</td>\n",
              "      <td>fortwo coupe</td>\n",
              "      <td>2014</td>\n",
              "      <td>1.0</td>\n",
              "      <td>3.0</td>\n",
              "      <td>Auto(AM5)</td>\n",
              "      <td>Rear-Wheel Drive</td>\n",
              "      <td>Two Seaters</td>\n",
              "      <td>Premium</td>\n",
              "      <td>9.155833</td>\n",
              "      <td>34</td>\n",
              "      <td>38</td>\n",
              "      <td>36</td>\n",
              "      <td>243.000000</td>\n",
              "      <td>1100</td>\n",
              "    </tr>\n",
              "    <tr>\n",
              "      <th>35949</th>\n",
              "      <td>smart</td>\n",
              "      <td>fortwo coupe</td>\n",
              "      <td>2015</td>\n",
              "      <td>1.0</td>\n",
              "      <td>3.0</td>\n",
              "      <td>Auto(AM5)</td>\n",
              "      <td>Rear-Wheel Drive</td>\n",
              "      <td>Two Seaters</td>\n",
              "      <td>Premium</td>\n",
              "      <td>9.155833</td>\n",
              "      <td>34</td>\n",
              "      <td>38</td>\n",
              "      <td>36</td>\n",
              "      <td>244.000000</td>\n",
              "      <td>1100</td>\n",
              "    </tr>\n",
              "    <tr>\n",
              "      <th>35950</th>\n",
              "      <td>smart</td>\n",
              "      <td>fortwo coupe</td>\n",
              "      <td>2016</td>\n",
              "      <td>0.9</td>\n",
              "      <td>3.0</td>\n",
              "      <td>Auto(AM6)</td>\n",
              "      <td>Rear-Wheel Drive</td>\n",
              "      <td>Two Seaters</td>\n",
              "      <td>Premium</td>\n",
              "      <td>9.155833</td>\n",
              "      <td>34</td>\n",
              "      <td>39</td>\n",
              "      <td>36</td>\n",
              "      <td>246.000000</td>\n",
              "      <td>1100</td>\n",
              "    </tr>\n",
              "    <tr>\n",
              "      <th>35951</th>\n",
              "      <td>smart</td>\n",
              "      <td>fortwo coupe</td>\n",
              "      <td>2016</td>\n",
              "      <td>0.9</td>\n",
              "      <td>3.0</td>\n",
              "      <td>Manual 5-spd</td>\n",
              "      <td>Rear-Wheel Drive</td>\n",
              "      <td>Two Seaters</td>\n",
              "      <td>Premium</td>\n",
              "      <td>9.417429</td>\n",
              "      <td>32</td>\n",
              "      <td>39</td>\n",
              "      <td>35</td>\n",
              "      <td>255.000000</td>\n",
              "      <td>1150</td>\n",
              "    </tr>\n",
              "  </tbody>\n",
              "</table>\n",
              "<p>35952 rows × 15 columns</p>\n",
              "</div>\n",
              "    <div class=\"colab-df-buttons\">\n",
              "\n",
              "  <div class=\"colab-df-container\">\n",
              "    <button class=\"colab-df-convert\" onclick=\"convertToInteractive('df-ad8d15e6-f523-4e46-b25a-a00d7f83d1f0')\"\n",
              "            title=\"Convert this dataframe to an interactive table.\"\n",
              "            style=\"display:none;\">\n",
              "\n",
              "  <svg xmlns=\"http://www.w3.org/2000/svg\" height=\"24px\" viewBox=\"0 -960 960 960\">\n",
              "    <path d=\"M120-120v-720h720v720H120Zm60-500h600v-160H180v160Zm220 220h160v-160H400v160Zm0 220h160v-160H400v160ZM180-400h160v-160H180v160Zm440 0h160v-160H620v160ZM180-180h160v-160H180v160Zm440 0h160v-160H620v160Z\"/>\n",
              "  </svg>\n",
              "    </button>\n",
              "\n",
              "  <style>\n",
              "    .colab-df-container {\n",
              "      display:flex;\n",
              "      gap: 12px;\n",
              "    }\n",
              "\n",
              "    .colab-df-convert {\n",
              "      background-color: #E8F0FE;\n",
              "      border: none;\n",
              "      border-radius: 50%;\n",
              "      cursor: pointer;\n",
              "      display: none;\n",
              "      fill: #1967D2;\n",
              "      height: 32px;\n",
              "      padding: 0 0 0 0;\n",
              "      width: 32px;\n",
              "    }\n",
              "\n",
              "    .colab-df-convert:hover {\n",
              "      background-color: #E2EBFA;\n",
              "      box-shadow: 0px 1px 2px rgba(60, 64, 67, 0.3), 0px 1px 3px 1px rgba(60, 64, 67, 0.15);\n",
              "      fill: #174EA6;\n",
              "    }\n",
              "\n",
              "    .colab-df-buttons div {\n",
              "      margin-bottom: 4px;\n",
              "    }\n",
              "\n",
              "    [theme=dark] .colab-df-convert {\n",
              "      background-color: #3B4455;\n",
              "      fill: #D2E3FC;\n",
              "    }\n",
              "\n",
              "    [theme=dark] .colab-df-convert:hover {\n",
              "      background-color: #434B5C;\n",
              "      box-shadow: 0px 1px 3px 1px rgba(0, 0, 0, 0.15);\n",
              "      filter: drop-shadow(0px 1px 2px rgba(0, 0, 0, 0.3));\n",
              "      fill: #FFFFFF;\n",
              "    }\n",
              "  </style>\n",
              "\n",
              "    <script>\n",
              "      const buttonEl =\n",
              "        document.querySelector('#df-ad8d15e6-f523-4e46-b25a-a00d7f83d1f0 button.colab-df-convert');\n",
              "      buttonEl.style.display =\n",
              "        google.colab.kernel.accessAllowed ? 'block' : 'none';\n",
              "\n",
              "      async function convertToInteractive(key) {\n",
              "        const element = document.querySelector('#df-ad8d15e6-f523-4e46-b25a-a00d7f83d1f0');\n",
              "        const dataTable =\n",
              "          await google.colab.kernel.invokeFunction('convertToInteractive',\n",
              "                                                    [key], {});\n",
              "        if (!dataTable) return;\n",
              "\n",
              "        const docLinkHtml = 'Like what you see? Visit the ' +\n",
              "          '<a target=\"_blank\" href=https://colab.research.google.com/notebooks/data_table.ipynb>data table notebook</a>'\n",
              "          + ' to learn more about interactive tables.';\n",
              "        element.innerHTML = '';\n",
              "        dataTable['output_type'] = 'display_data';\n",
              "        await google.colab.output.renderOutput(dataTable, element);\n",
              "        const docLink = document.createElement('div');\n",
              "        docLink.innerHTML = docLinkHtml;\n",
              "        element.appendChild(docLink);\n",
              "      }\n",
              "    </script>\n",
              "  </div>\n",
              "\n",
              "\n",
              "    <div id=\"df-0fe6f93d-6d3e-43ed-a65c-5c1ab5815f3d\">\n",
              "      <button class=\"colab-df-quickchart\" onclick=\"quickchart('df-0fe6f93d-6d3e-43ed-a65c-5c1ab5815f3d')\"\n",
              "                title=\"Suggest charts\"\n",
              "                style=\"display:none;\">\n",
              "\n",
              "<svg xmlns=\"http://www.w3.org/2000/svg\" height=\"24px\"viewBox=\"0 0 24 24\"\n",
              "     width=\"24px\">\n",
              "    <g>\n",
              "        <path d=\"M19 3H5c-1.1 0-2 .9-2 2v14c0 1.1.9 2 2 2h14c1.1 0 2-.9 2-2V5c0-1.1-.9-2-2-2zM9 17H7v-7h2v7zm4 0h-2V7h2v10zm4 0h-2v-4h2v4z\"/>\n",
              "    </g>\n",
              "</svg>\n",
              "      </button>\n",
              "\n",
              "<style>\n",
              "  .colab-df-quickchart {\n",
              "      --bg-color: #E8F0FE;\n",
              "      --fill-color: #1967D2;\n",
              "      --hover-bg-color: #E2EBFA;\n",
              "      --hover-fill-color: #174EA6;\n",
              "      --disabled-fill-color: #AAA;\n",
              "      --disabled-bg-color: #DDD;\n",
              "  }\n",
              "\n",
              "  [theme=dark] .colab-df-quickchart {\n",
              "      --bg-color: #3B4455;\n",
              "      --fill-color: #D2E3FC;\n",
              "      --hover-bg-color: #434B5C;\n",
              "      --hover-fill-color: #FFFFFF;\n",
              "      --disabled-bg-color: #3B4455;\n",
              "      --disabled-fill-color: #666;\n",
              "  }\n",
              "\n",
              "  .colab-df-quickchart {\n",
              "    background-color: var(--bg-color);\n",
              "    border: none;\n",
              "    border-radius: 50%;\n",
              "    cursor: pointer;\n",
              "    display: none;\n",
              "    fill: var(--fill-color);\n",
              "    height: 32px;\n",
              "    padding: 0;\n",
              "    width: 32px;\n",
              "  }\n",
              "\n",
              "  .colab-df-quickchart:hover {\n",
              "    background-color: var(--hover-bg-color);\n",
              "    box-shadow: 0 1px 2px rgba(60, 64, 67, 0.3), 0 1px 3px 1px rgba(60, 64, 67, 0.15);\n",
              "    fill: var(--button-hover-fill-color);\n",
              "  }\n",
              "\n",
              "  .colab-df-quickchart-complete:disabled,\n",
              "  .colab-df-quickchart-complete:disabled:hover {\n",
              "    background-color: var(--disabled-bg-color);\n",
              "    fill: var(--disabled-fill-color);\n",
              "    box-shadow: none;\n",
              "  }\n",
              "\n",
              "  .colab-df-spinner {\n",
              "    border: 2px solid var(--fill-color);\n",
              "    border-color: transparent;\n",
              "    border-bottom-color: var(--fill-color);\n",
              "    animation:\n",
              "      spin 1s steps(1) infinite;\n",
              "  }\n",
              "\n",
              "  @keyframes spin {\n",
              "    0% {\n",
              "      border-color: transparent;\n",
              "      border-bottom-color: var(--fill-color);\n",
              "      border-left-color: var(--fill-color);\n",
              "    }\n",
              "    20% {\n",
              "      border-color: transparent;\n",
              "      border-left-color: var(--fill-color);\n",
              "      border-top-color: var(--fill-color);\n",
              "    }\n",
              "    30% {\n",
              "      border-color: transparent;\n",
              "      border-left-color: var(--fill-color);\n",
              "      border-top-color: var(--fill-color);\n",
              "      border-right-color: var(--fill-color);\n",
              "    }\n",
              "    40% {\n",
              "      border-color: transparent;\n",
              "      border-right-color: var(--fill-color);\n",
              "      border-top-color: var(--fill-color);\n",
              "    }\n",
              "    60% {\n",
              "      border-color: transparent;\n",
              "      border-right-color: var(--fill-color);\n",
              "    }\n",
              "    80% {\n",
              "      border-color: transparent;\n",
              "      border-right-color: var(--fill-color);\n",
              "      border-bottom-color: var(--fill-color);\n",
              "    }\n",
              "    90% {\n",
              "      border-color: transparent;\n",
              "      border-bottom-color: var(--fill-color);\n",
              "    }\n",
              "  }\n",
              "</style>\n",
              "\n",
              "      <script>\n",
              "        async function quickchart(key) {\n",
              "          const quickchartButtonEl =\n",
              "            document.querySelector('#' + key + ' button');\n",
              "          quickchartButtonEl.disabled = true;  // To prevent multiple clicks.\n",
              "          quickchartButtonEl.classList.add('colab-df-spinner');\n",
              "          try {\n",
              "            const charts = await google.colab.kernel.invokeFunction(\n",
              "                'suggestCharts', [key], {});\n",
              "          } catch (error) {\n",
              "            console.error('Error during call to suggestCharts:', error);\n",
              "          }\n",
              "          quickchartButtonEl.classList.remove('colab-df-spinner');\n",
              "          quickchartButtonEl.classList.add('colab-df-quickchart-complete');\n",
              "        }\n",
              "        (() => {\n",
              "          let quickchartButtonEl =\n",
              "            document.querySelector('#df-0fe6f93d-6d3e-43ed-a65c-5c1ab5815f3d button');\n",
              "          quickchartButtonEl.style.display =\n",
              "            google.colab.kernel.accessAllowed ? 'block' : 'none';\n",
              "        })();\n",
              "      </script>\n",
              "    </div>\n",
              "\n",
              "  <div id=\"id_0f479acc-2446-4d15-b77a-6aafdbd5be31\">\n",
              "    <style>\n",
              "      .colab-df-generate {\n",
              "        background-color: #E8F0FE;\n",
              "        border: none;\n",
              "        border-radius: 50%;\n",
              "        cursor: pointer;\n",
              "        display: none;\n",
              "        fill: #1967D2;\n",
              "        height: 32px;\n",
              "        padding: 0 0 0 0;\n",
              "        width: 32px;\n",
              "      }\n",
              "\n",
              "      .colab-df-generate:hover {\n",
              "        background-color: #E2EBFA;\n",
              "        box-shadow: 0px 1px 2px rgba(60, 64, 67, 0.3), 0px 1px 3px 1px rgba(60, 64, 67, 0.15);\n",
              "        fill: #174EA6;\n",
              "      }\n",
              "\n",
              "      [theme=dark] .colab-df-generate {\n",
              "        background-color: #3B4455;\n",
              "        fill: #D2E3FC;\n",
              "      }\n",
              "\n",
              "      [theme=dark] .colab-df-generate:hover {\n",
              "        background-color: #434B5C;\n",
              "        box-shadow: 0px 1px 3px 1px rgba(0, 0, 0, 0.15);\n",
              "        filter: drop-shadow(0px 1px 2px rgba(0, 0, 0, 0.3));\n",
              "        fill: #FFFFFF;\n",
              "      }\n",
              "    </style>\n",
              "    <button class=\"colab-df-generate\" onclick=\"generateWithVariable('vehicles')\"\n",
              "            title=\"Generate code using this dataframe.\"\n",
              "            style=\"display:none;\">\n",
              "\n",
              "  <svg xmlns=\"http://www.w3.org/2000/svg\" height=\"24px\"viewBox=\"0 0 24 24\"\n",
              "       width=\"24px\">\n",
              "    <path d=\"M7,19H8.4L18.45,9,17,7.55,7,17.6ZM5,21V16.75L18.45,3.32a2,2,0,0,1,2.83,0l1.4,1.43a1.91,1.91,0,0,1,.58,1.4,1.91,1.91,0,0,1-.58,1.4L9.25,21ZM18.45,9,17,7.55Zm-12,3A5.31,5.31,0,0,0,4.9,8.1,5.31,5.31,0,0,0,1,6.5,5.31,5.31,0,0,0,4.9,4.9,5.31,5.31,0,0,0,6.5,1,5.31,5.31,0,0,0,8.1,4.9,5.31,5.31,0,0,0,12,6.5,5.46,5.46,0,0,0,6.5,12Z\"/>\n",
              "  </svg>\n",
              "    </button>\n",
              "    <script>\n",
              "      (() => {\n",
              "      const buttonEl =\n",
              "        document.querySelector('#id_0f479acc-2446-4d15-b77a-6aafdbd5be31 button.colab-df-generate');\n",
              "      buttonEl.style.display =\n",
              "        google.colab.kernel.accessAllowed ? 'block' : 'none';\n",
              "\n",
              "      buttonEl.onclick = () => {\n",
              "        google.colab.notebook.generateWithVariable('vehicles');\n",
              "      }\n",
              "      })();\n",
              "    </script>\n",
              "  </div>\n",
              "\n",
              "    </div>\n",
              "  </div>\n"
            ],
            "application/vnd.google.colaboratory.intrinsic+json": {
              "type": "dataframe",
              "variable_name": "vehicles",
              "summary": "{\n  \"name\": \"vehicles\",\n  \"rows\": 35952,\n  \"fields\": [\n    {\n      \"column\": \"Make\",\n      \"properties\": {\n        \"dtype\": \"category\",\n        \"num_unique_values\": 127,\n        \"samples\": [\n          \"Daihatsu\",\n          \"Subaru\",\n          \"Oldsmobile\"\n        ],\n        \"semantic_type\": \"\",\n        \"description\": \"\"\n      }\n    },\n    {\n      \"column\": \"Model\",\n      \"properties\": {\n        \"dtype\": \"category\",\n        \"num_unique_values\": 3608,\n        \"samples\": [\n          \"Panamera Turbo S\",\n          \"62 S\",\n          \"LS 400\"\n        ],\n        \"semantic_type\": \"\",\n        \"description\": \"\"\n      }\n    },\n    {\n      \"column\": \"Year\",\n      \"properties\": {\n        \"dtype\": \"number\",\n        \"std\": 10,\n        \"min\": 1984,\n        \"max\": 2017,\n        \"num_unique_values\": 34,\n        \"samples\": [\n          2015,\n          1988,\n          2006\n        ],\n        \"semantic_type\": \"\",\n        \"description\": \"\"\n      }\n    },\n    {\n      \"column\": \"Engine Displacement\",\n      \"properties\": {\n        \"dtype\": \"number\",\n        \"std\": 1.3593953862862795,\n        \"min\": 0.6,\n        \"max\": 8.4,\n        \"num_unique_values\": 65,\n        \"samples\": [\n          1.3,\n          5.5,\n          2.5\n        ],\n        \"semantic_type\": \"\",\n        \"description\": \"\"\n      }\n    },\n    {\n      \"column\": \"Cylinders\",\n      \"properties\": {\n        \"dtype\": \"number\",\n        \"std\": 1.7552682317650985,\n        \"min\": 2.0,\n        \"max\": 16.0,\n        \"num_unique_values\": 9,\n        \"samples\": [\n          3.0,\n          6.0,\n          10.0\n        ],\n        \"semantic_type\": \"\",\n        \"description\": \"\"\n      }\n    },\n    {\n      \"column\": \"Transmission\",\n      \"properties\": {\n        \"dtype\": \"category\",\n        \"num_unique_values\": 45,\n        \"samples\": [\n          \"Auto (AV-S8)\",\n          \"Automatic (AM6)\",\n          \"Automatic 8-spd\"\n        ],\n        \"semantic_type\": \"\",\n        \"description\": \"\"\n      }\n    },\n    {\n      \"column\": \"Drivetrain\",\n      \"properties\": {\n        \"dtype\": \"category\",\n        \"num_unique_values\": 8,\n        \"samples\": [\n          \"Rear-Wheel Drive\",\n          \"4-Wheel Drive\",\n          \"2-Wheel Drive\"\n        ],\n        \"semantic_type\": \"\",\n        \"description\": \"\"\n      }\n    },\n    {\n      \"column\": \"Vehicle Class\",\n      \"properties\": {\n        \"dtype\": \"category\",\n        \"num_unique_values\": 34,\n        \"samples\": [\n          \"Large Cars\",\n          \"Minivan - 2WD\",\n          \"Standard Pickup Trucks 4WD\"\n        ],\n        \"semantic_type\": \"\",\n        \"description\": \"\"\n      }\n    },\n    {\n      \"column\": \"Fuel Type\",\n      \"properties\": {\n        \"dtype\": \"category\",\n        \"num_unique_values\": 13,\n        \"samples\": [\n          \"Regular Gas and Electricity\",\n          \"Regular Gas or Electricity\",\n          \"Regular\"\n        ],\n        \"semantic_type\": \"\",\n        \"description\": \"\"\n      }\n    },\n    {\n      \"column\": \"Fuel Barrels/Year\",\n      \"properties\": {\n        \"dtype\": \"number\",\n        \"std\": 4.467282686296995,\n        \"min\": 0.06,\n        \"max\": 47.08714285714285,\n        \"num_unique_values\": 123,\n        \"samples\": [\n          27.4675,\n          7.356924277610839,\n          18.19928571428572\n        ],\n        \"semantic_type\": \"\",\n        \"description\": \"\"\n      }\n    },\n    {\n      \"column\": \"City MPG\",\n      \"properties\": {\n        \"dtype\": \"number\",\n        \"std\": 4,\n        \"min\": 6,\n        \"max\": 58,\n        \"num_unique_values\": 48,\n        \"samples\": [\n          32,\n          50,\n          27\n        ],\n        \"semantic_type\": \"\",\n        \"description\": \"\"\n      }\n    },\n    {\n      \"column\": \"Highway MPG\",\n      \"properties\": {\n        \"dtype\": \"number\",\n        \"std\": 5,\n        \"min\": 9,\n        \"max\": 61,\n        \"num_unique_values\": 49,\n        \"samples\": [\n          38,\n          61,\n          59\n        ],\n        \"semantic_type\": \"\",\n        \"description\": \"\"\n      }\n    },\n    {\n      \"column\": \"Combined MPG\",\n      \"properties\": {\n        \"dtype\": \"number\",\n        \"std\": 5,\n        \"min\": 7,\n        \"max\": 56,\n        \"num_unique_values\": 46,\n        \"samples\": [\n          44,\n          35,\n          39\n        ],\n        \"semantic_type\": \"\",\n        \"description\": \"\"\n      }\n    },\n    {\n      \"column\": \"CO2 Emission Grams/Mile\",\n      \"properties\": {\n        \"dtype\": \"number\",\n        \"std\": 119.06077323591474,\n        \"min\": 37.0,\n        \"max\": 1269.571428571429,\n        \"num_unique_values\": 575,\n        \"samples\": [\n          299.0,\n          538.0,\n          407.0\n        ],\n        \"semantic_type\": \"\",\n        \"description\": \"\"\n      }\n    },\n    {\n      \"column\": \"Fuel Cost/Year\",\n      \"properties\": {\n        \"dtype\": \"number\",\n        \"std\": 506,\n        \"min\": 600,\n        \"max\": 5800,\n        \"num_unique_values\": 55,\n        \"samples\": [\n          4050,\n          1650,\n          1100\n        ],\n        \"semantic_type\": \"\",\n        \"description\": \"\"\n      }\n    }\n  ]\n}"
            }
          },
          "metadata": {},
          "execution_count": 18
        }
      ],
      "source": [
        "# Import any libraries you may need & the data\n",
        "vehicles = pd.read_csv(\"vehicles.csv\")\n",
        "vehicles"
      ]
    },
    {
      "cell_type": "markdown",
      "metadata": {
        "id": "PF7VEZlzN2PI"
      },
      "source": [
        "Let's use the following variables for our analysis: Year, Cylinders, Fuel Barrels/Year, Combined MPG, and Fuel Cost/Year. We will use 'CO2 Emission Grams/Mile' as our outcome variable.\n",
        "\n",
        "Calculate the correlations between each of these variables and the outcome. Which variable do you think will be the most important in determining CO2 emissions? Which provides the least amount of helpful information for determining CO2 emissions? Add your responses as comments after your code."
      ]
    },
    {
      "cell_type": "code",
      "execution_count": 22,
      "metadata": {
        "colab": {
          "base_uri": "https://localhost:8080/"
        },
        "id": "OopC00y_N2PI",
        "outputId": "b3c621de-775a-4241-da94-c7641f28ebce"
      },
      "outputs": [
        {
          "output_type": "stream",
          "name": "stdout",
          "text": [
            "Covariance\n",
            "                               Year   Cylinders  Fuel Barrels/Year  \\\n",
            "Year                     101.713065    1.459896          -9.960687   \n",
            "Cylinders                  1.459896    3.080967           5.798763   \n",
            "Fuel Barrels/Year         -9.960687    5.798763          19.956615   \n",
            "Combined MPG              10.556963   -6.269421         -20.777227   \n",
            "Fuel Cost/Year          -469.934524  692.437947        2074.962381   \n",
            "CO2 Emission Grams/Mile -266.928999  157.237699         524.532182   \n",
            "\n",
            "                         Combined MPG  Fuel Cost/Year  CO2 Emission Grams/Mile  \n",
            "Year                        10.556963     -469.934524              -266.928999  \n",
            "Cylinders                   -6.269421      692.437947               157.237699  \n",
            "Fuel Barrels/Year          -20.777227     2074.962381               524.532182  \n",
            "Combined MPG                26.136725    -2268.286203              -563.783910  \n",
            "Fuel Cost/Year           -2268.286203   257007.049913             56185.983710  \n",
            "CO2 Emission Grams/Mile   -563.783910    56185.983710             14175.467724  \n"
          ]
        }
      ],
      "source": [
        "# Your code here.\n",
        "\n",
        "# Covariance\n",
        "covariance = vehicles[[\"Year\", \"Cylinders\", \"Fuel Barrels/Year\", \"Combined MPG\", \"Fuel Cost/Year\", \"CO2 Emission Grams/Mile\"]].cov()\n",
        "\n",
        "# Correlation\n",
        "correlation = vehicles[[\"Year\", \"Cylinders\", \"Fuel Barrels/Year\", \"Combined MPG\", \"Fuel Cost/Year\", \"CO2 Emission Grams/Mile\"]].corr()\n",
        "\n",
        "print(\"Covariance\")\n",
        "print(covariance)"
      ]
    },
    {
      "cell_type": "code",
      "source": [
        "print(\"Correlation\")\n",
        "print(correlation)"
      ],
      "metadata": {
        "colab": {
          "base_uri": "https://localhost:8080/"
        },
        "id": "Ucv8aVAsmCzr",
        "outputId": "e6e804ea-d7e3-4411-f542-3a57f0e2800d"
      },
      "execution_count": 21,
      "outputs": [
        {
          "output_type": "stream",
          "name": "stdout",
          "text": [
            "Correlation\n",
            "                             Year  Cylinders  Fuel Barrels/Year  Combined MPG  \\\n",
            "Year                     1.000000   0.082469          -0.221084      0.204751   \n",
            "Cylinders                0.082469   1.000000           0.739517     -0.698648   \n",
            "Fuel Barrels/Year       -0.221084   0.739517           1.000000     -0.909743   \n",
            "Combined MPG             0.204751  -0.698648          -0.909743      1.000000   \n",
            "Fuel Cost/Year          -0.091913   0.778153           0.916208     -0.875185   \n",
            "CO2 Emission Grams/Mile -0.222300   0.752393           0.986189     -0.926229   \n",
            "\n",
            "                         Fuel Cost/Year  CO2 Emission Grams/Mile  \n",
            "Year                          -0.091913                -0.222300  \n",
            "Cylinders                      0.778153                 0.752393  \n",
            "Fuel Barrels/Year              0.916208                 0.986189  \n",
            "Combined MPG                  -0.875185                -0.926229  \n",
            "Fuel Cost/Year                 1.000000                 0.930865  \n",
            "CO2 Emission Grams/Mile        0.930865                 1.000000  \n"
          ]
        }
      ]
    },
    {
      "cell_type": "markdown",
      "metadata": {
        "id": "TklxDx7VN2PI"
      },
      "source": [
        "Build a regression model for this data. What type of regression are you using? Add your responses as comments after your code."
      ]
    },
    {
      "cell_type": "code",
      "execution_count": 25,
      "metadata": {
        "id": "HOHhg35rN2PI"
      },
      "outputs": [],
      "source": [
        "# Your code here.\n",
        "x=vehicles[[\"Year\", \"Cylinders\", \"Fuel Barrels/Year\", \"Combined MPG\", \"Fuel Cost/Year\"]]\n",
        "y=vehicles[[\"CO2 Emission Grams/Mile\"]]\n",
        "\n",
        "lm = LinearRegression()\n",
        "\n",
        "model = lm.fit(x,y)"
      ]
    },
    {
      "cell_type": "markdown",
      "metadata": {
        "id": "rT9Wq6NwN2PI"
      },
      "source": [
        "Print your regression summary, and interpret the results. What are the most important varibles in your model and why? What can conclusions can you draw from your model and how confident in these conclusions are you? Add your responses as comments after your code."
      ]
    },
    {
      "cell_type": "code",
      "execution_count": 26,
      "metadata": {
        "colab": {
          "base_uri": "https://localhost:8080/"
        },
        "id": "eiCNFvUpN2PI",
        "outputId": "0be3f582-1599-477e-a4b4-a95e56fe0767"
      },
      "outputs": [
        {
          "output_type": "stream",
          "name": "stdout",
          "text": [
            "Intercept: [769.88828365]\n",
            "Coefficients: [[-0.32061673  1.87879976 19.05292507 -3.04039938  0.03230948]]\n"
          ]
        }
      ],
      "source": [
        "# Your code here.\n",
        "print(\"Intercept:\", model.intercept_)\n",
        "print(\"Coefficients:\", model.coef_)\n",
        "\n",
        "# Interpretation:\n",
        "    # Intercept (769.89):\n",
        "      # This is the estimated CO2 emission (in grams per mile) when all predictor variables are zero (which is usually theoretical and unlikely in reality).\n",
        "    # Year (-0.32):\n",
        "      # Each additional year (i.e., newer vehicles) is associated with a decrease of about 0.32 grams of CO2 per mile, holding all other factors constant. This suggests newer cars tend to be more environmentally friendly.\n",
        "    # Cylinders (1.88):\n",
        "      # Each additional cylinder in the engine increases CO2 emissions by approximately 1.88 grams per mile, assuming other variables stay the same. More cylinders generally mean more emissions.\n",
        "    # Fuel Barrels/Year (19.05):\n",
        "      # Each additional barrel of fuel consumed per year is associated with an increase of about 19.05 grams of CO2 per mile. This has the strongest positive effect.\n",
        "    # Combined MPG (-3.04):\n",
        "      # Higher fuel efficiency (miles per gallon) decreases CO2 emissions by about 3.04 grams per mile for every 1 MPG increase, all else equal.\n",
        "    # Fuel Cost/Year (0.03):\n",
        "      # Increasing annual fuel cost by one unit (dollar or other currency) is associated with a slight increase of 0.03 grams CO2 per mile, which is a very small effect.\n"
      ]
    },
    {
      "cell_type": "markdown",
      "metadata": {
        "id": "gvV6-ld3N2PJ"
      },
      "source": [
        "## Bonus Challenge: Error Analysis"
      ]
    },
    {
      "cell_type": "markdown",
      "metadata": {
        "id": "Uyqt69uzN2PJ"
      },
      "source": [
        "I am suspicious about the last few parties I have thrown: it seems that the more people I invite the more people are unable to attend. To know if my hunch is supported by data, I have decided to do an analysis. I have collected my data in the table below, where X is the number of people I invited, and Y is the number of people who attended.\n",
        "\n",
        "|  X |  Y |\n",
        "|----|----|\n",
        "| 1  |  1 |\n",
        "| 3  |  2 |\n",
        "| 4  |  4 |\n",
        "| 6  |  4 |\n",
        "| 8  |  5 |\n",
        "| 9  |  7 |\n",
        "| 11 |  8 |\n",
        "| 14 |  13 |"
      ]
    },
    {
      "cell_type": "markdown",
      "metadata": {
        "id": "MEnDYL0gN2PJ"
      },
      "source": [
        "We want to know if the relationship modeled by the two random variables is linear or not, and therefore if it is appropriate to model it with a linear regression.\n",
        "First, build a dataframe with the data."
      ]
    },
    {
      "cell_type": "code",
      "execution_count": 27,
      "metadata": {
        "id": "Vr2u_w8aN2PJ"
      },
      "outputs": [],
      "source": [
        "# Your code here.\n",
        "party_data = pd.DataFrame({'X': [1,3,4,6,8,9,11,14], 'Y': [1,2,4,4,5,7,8,13]})"
      ]
    },
    {
      "cell_type": "markdown",
      "metadata": {
        "id": "Ww1mDGOMN2PJ"
      },
      "source": [
        "Draw a dispersion diagram (scatter plot) for the data, and fit a regression line."
      ]
    },
    {
      "cell_type": "code",
      "execution_count": 30,
      "metadata": {
        "colab": {
          "base_uri": "https://localhost:8080/",
          "height": 472
        },
        "id": "wK7X1KaZN2PJ",
        "outputId": "f03507d9-9790-4010-a895-1b402c780765"
      },
      "outputs": [
        {
          "output_type": "display_data",
          "data": {
            "text/plain": [
              "<Figure size 640x480 with 1 Axes>"
            ],
            "image/png": "[encoded data removed]"
          },
          "metadata": {}
        }
      ],
      "source": [
        "# Your code here.\n",
        "sns.regplot(data=party_data, x=\"X\", y=\"Y\", ci=None, line_kws={\"color\": \"red\"})\n",
        "plt.title(\"Scatterplot mit Regression Line\")\n",
        "plt.show()"
      ]
    },
    {
      "cell_type": "markdown",
      "metadata": {
        "id": "Xq5EG1TUN2PJ"
      },
      "source": [
        "What do you see? What does this plot tell you about the likely relationship between the variables? Print the results from your regression."
      ]
    },
    {
      "cell_type": "markdown",
      "metadata": {
        "id": "mr4gjYSzN2PJ"
      },
      "source": [
        "*The scatterplat with the regression lines points towards a linear regression: The more people invited, the more people are unable to attend.*\n"
      ]
    },
    {
      "cell_type": "markdown",
      "metadata": {
        "id": "bXLo_n9jN2PJ"
      },
      "source": [
        "Do you see any problematic points, or outliers, in your data? Remove these points and recalculate your regression. Print the new dispersion diagram with your new model and the results of your model."
      ]
    },
    {
      "cell_type": "markdown",
      "source": [],
      "metadata": {
        "id": "aCvWcR_psr3g"
      }
    },
    {
      "cell_type": "code",
      "execution_count": 32,
      "metadata": {
        "colab": {
          "base_uri": "https://localhost:8080/",
          "height": 472
        },
        "id": "c2bFYrFgN2PJ",
        "outputId": "08d22542-cf47-4e64-8b14-22d5cdf8a167"
      },
      "outputs": [
        {
          "output_type": "display_data",
          "data": {
            "text/plain": [
              "<Figure size 640x480 with 1 Axes>"
            ],
            "image/png": "[encoded data removed]"
          },
          "metadata": {}
        }
      ],
      "source": [
        "party_data_outlier_removed = pd.DataFrame({'X': [1,3,4,6,8,9,11], 'Y': [1,2,4,4,5,7,8]})\n",
        "sns.regplot(data=party_data_outlier_removed, x=\"X\", y=\"Y\", ci=None, line_kws={\"color\": \"red\"})\n",
        "plt.title(\"Scatterplot mit Regression Line\")\n",
        "plt.show()"
      ]
    },
    {
      "cell_type": "markdown",
      "metadata": {
        "id": "GA4RZhWaN2PJ"
      },
      "source": [
        "What changed? Based on the results of the two models and your graphs, what can you say about the form of the data with the problematic point and without it?"
      ]
    },
    {
      "cell_type": "markdown",
      "metadata": {
        "id": "UiFKR6E1N2PJ"
      },
      "source": [
        "*The slope of the regression line for 'people invited' increased, indicating that the variable has a stronger estimated effect on the outcome variable y than before.\"*"
      ]
    }
  ],
  "metadata": {
    "kernelspec": {
      "display_name": "Python 3 (ipykernel)",
      "language": "python",
      "name": "python3"
    },
    "language_info": {
      "codemirror_mode": {
        "name": "ipython",
        "version": 3
      },
      "file_extension": ".py",
      "mimetype": "text/x-python",
      "name": "python",
      "nbconvert_exporter": "python",
      "pygments_lexer": "ipython3",
      "version": "3.9.13"
    },
    "colab": {
      "provenance": []
    }
  },
  "nbformat": 4,
  "nbformat_minor": 0
}